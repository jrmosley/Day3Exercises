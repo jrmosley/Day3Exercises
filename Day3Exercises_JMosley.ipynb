{
 "cells": [
  {
   "cell_type": "code",
   "execution_count": 7,
   "metadata": {},
   "outputs": [],
   "source": [
    "#Create a dictionary named pairs with key value pairs of hello and fire, 3 and seven, strong and 45\"\n",
    "#Creating dictionary with key value pairs\n",
    "\n",
    "pairs =  {\"hello\": 'fire', \"3\":7, 'strong':45}"
   ]
  },
  {
   "cell_type": "code",
   "execution_count": 8,
   "metadata": {},
   "outputs": [
    {
     "data": {
      "text/plain": [
       "{'hello': 'fire', '3': 7, 'strong': 45}"
      ]
     },
     "execution_count": 8,
     "metadata": {},
     "output_type": "execute_result"
    }
   ],
   "source": [
    "#Print the dictionary pairs out\n",
    "\n",
    "pairs\n"
   ]
  },
  {
   "cell_type": "code",
   "execution_count": 9,
   "metadata": {},
   "outputs": [],
   "source": [
    "#\"Add a new pair into the dictionary called pairs. Add welcome and 56\"\n",
    "\n",
    "pairs['welcome'] = 56 \n",
    "\n",
    "\n"
   ]
  },
  {
   "cell_type": "code",
   "execution_count": 12,
   "metadata": {},
   "outputs": [
    {
     "data": {
      "text/plain": [
       "{'hello': 'fire', 'strong': 45, 'welcome': 56}"
      ]
     },
     "execution_count": 12,
     "metadata": {},
     "output_type": "execute_result"
    }
   ],
   "source": [
    "#\"Delete one item from the Dictionary and print it out\"\n",
    "\n",
    "del pairs ['3']\n",
    "\n",
    "pairs\n"
   ]
  },
  {
   "cell_type": "code",
   "execution_count": 15,
   "metadata": {},
   "outputs": [
    {
     "name": "stdout",
     "output_type": "stream",
     "text": [
      "fire\n",
      "fire\n"
     ]
    }
   ],
   "source": [
    "#\"Pull out one item from the dicitonary\n",
    "\n",
    "\n",
    "x=pairs.get('hello')\n",
    "print (x)\n",
    "\n",
    "#or\n",
    "\n",
    "y=pairs['hello']\n",
    "print (y)\n"
   ]
  },
  {
   "cell_type": "code",
   "execution_count": 16,
   "metadata": {},
   "outputs": [
    {
     "name": "stdout",
     "output_type": "stream",
     "text": [
      "Yes, 'hello' is in pairs\n"
     ]
    }
   ],
   "source": [
    "'''\n",
    "\"Try to find out if the key called hello exist. Print out the key is found if it is\n",
    "   there otherwise print out the key is not there.\"\n",
    "'''\n",
    "\n",
    "if 'hello' in pairs:\n",
    "    print (\"Yes, 'hello' is in pairs\")\n",
    "else:\n",
    "    print (\"No, it's not in pairs\")"
   ]
  },
  {
   "cell_type": "code",
   "execution_count": 19,
   "metadata": {},
   "outputs": [
    {
     "name": "stdout",
     "output_type": "stream",
     "text": [
      "fire\n",
      "45\n",
      "56\n"
     ]
    }
   ],
   "source": [
    "#    \"Please loop through the dictionary and print out each value. \"\n",
    "\n",
    "for i in pairs.values():\n",
    "    print (i)\n"
   ]
  },
  {
   "cell_type": "code",
   "execution_count": 20,
   "metadata": {},
   "outputs": [
    {
     "name": "stdout",
     "output_type": "stream",
     "text": [
      "hello\n",
      "strong\n",
      "welcome\n"
     ]
    }
   ],
   "source": [
    "#    \"Please loop through the dictionary and print out each key.\"\n",
    "\n",
    "\n",
    "for z in pairs.keys():\n",
    "    print(z)"
   ]
  },
  {
   "cell_type": "code",
   "execution_count": 21,
   "metadata": {},
   "outputs": [
    {
     "name": "stdout",
     "output_type": "stream",
     "text": [
      "('hello', 'fire')\n",
      "('strong', 45)\n",
      "('welcome', 56)\n"
     ]
    }
   ],
   "source": [
    "#   \"Please loop through the dictionary and print out each key and value pair. \"\n",
    "\n",
    "for u in pairs.items():\n",
    "    print (u)\n"
   ]
  },
  {
   "cell_type": "code",
   "execution_count": 22,
   "metadata": {},
   "outputs": [
    {
     "name": "stdout",
     "output_type": "stream",
     "text": [
      "{'hello': 'fire', 'strong': 45, 'welcome': 56}\n"
     ]
    }
   ],
   "source": [
    "#    \"Make a copy of this dictionary and store it as pairs2\"\n",
    "\n",
    "pair2 = pairs.copy()\n",
    "print (pair2)"
   ]
  },
  {
   "cell_type": "code",
   "execution_count": 24,
   "metadata": {},
   "outputs": [],
   "source": [
    "#    \"Please make a nested dictionary called Parent with 2 children\"\n",
    "\n",
    "parent = {\n",
    "    \"child1\": {\n",
    "     \"Name\": \"Susan\",\n",
    "     \"Age\":  10\n",
    "     },\n",
    "    \n",
    "    \"child2\": {\n",
    "     \"Name\":  \"Mike\",\n",
    "     \"Age\": 15\n",
    "    }\n",
    "}"
   ]
  },
  {
   "cell_type": "code",
   "execution_count": null,
   "metadata": {},
   "outputs": [],
   "source": []
  }
 ],
 "metadata": {
  "kernelspec": {
   "display_name": "Python 3",
   "language": "python",
   "name": "python3"
  },
  "language_info": {
   "codemirror_mode": {
    "name": "ipython",
    "version": 3
   },
   "file_extension": ".py",
   "mimetype": "text/x-python",
   "name": "python",
   "nbconvert_exporter": "python",
   "pygments_lexer": "ipython3",
   "version": "3.7.6"
  }
 },
 "nbformat": 4,
 "nbformat_minor": 4
}
